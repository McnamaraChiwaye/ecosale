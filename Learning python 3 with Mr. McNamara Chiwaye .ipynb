{
 "cells": [
  {
   "cell_type": "markdown",
   "metadata": {},
   "source": [
    "# Python – Move all files from subfolders to main folder\n",
    "Last Updated : 06 October, 2021\n",
    "\n",
    "This article will discuss how to move all files from the subfolder to the main folder using Python. The approach is simple it is similar to moving files from one folder to another using Python, except here the main folder or parent folder of the subfolder is passed as the destination.\n",
    "\n",
    "Modules Used\n",
    "OS Module: OS module in Python provides functions to interact with Operating System. It provides a portable way of using operating system-dependent functionality. os.path is a sub-module of the OS module.\n",
    "Shutil Module: Shutil module in Python provides many functions on files and collections of files. This module comes under Python standard utility modules. This module helps in automating the process of copying and removal of files and directories.\n",
    "Functions Used\n",
    "**os.path.join()**  method in Python join one or more path components _intelligently_. This method concatenates various path components with exactly one directory separator (‘/’) following each non-empty part except the last path component. If the last path component to be joined is empty then a directory separator (‘/’) is put at the end. If a path component represents an absolute path, then all previous components joined are discarded and joining continues from the absolute path component.\n",
    " "
   ]
  },
  {
   "cell_type": "markdown",
   "metadata": {},
   "source": [
    "## Syntax: os.path.join(path, *paths) \n",
    "Parameter: \n",
    "path: A path-like object representing a file system path. \n",
    "*path: A path-like object representing a file system path. It represents the path components to be joined. \n",
    "A path-like object is either a string or bytes object representing a path.\n",
    "Note: The special syntax *args (here *paths) in function definitions in python is used to pass a variable number of arguments to a function. \n",
    "Return Type: This method returns a string which represents the concatenated path components. m"
   ]
  },
  {
   "cell_type": "markdown",
   "metadata": {},
   "source": [
    "## Introduction to Python\n",
    "\n",
    " Contents\n",
    "\n",
    "1. Lists\n",
    "2. functions\n",
    "3. loops\n",
    "4. combine files\n",
    "\n",
    "### 1.  Strings"
   ]
  },
  {
   "cell_type": "code",
   "execution_count": 144,
   "metadata": {},
   "outputs": [
    {
     "name": "stdout",
     "output_type": "stream",
     "text": [
      "Hi # there.\n"
     ]
    }
   ],
   "source": [
    "print(\"Hi # there.\") "
   ]
  },
  {
   "cell_type": "code",
   "execution_count": 145,
   "metadata": {},
   "outputs": [
    {
     "name": "stdout",
     "output_type": "stream",
     "text": [
      "I will now count my chickens:\n",
      "Hens 30.0\n",
      "Roosters 97\n",
      "Now I will count the eggs:\n",
      "6.75\n",
      "Is it true that 3 + 2 < 5 - 7?\n",
      "False\n",
      "What is 3 + 2? 5\n",
      "What is 5 - 7? -2\n",
      "Oh, that's why it's False.\n",
      "How about some more.\n",
      "Is it greater? True\n",
      "Is it greater or equal? True\n",
      "Is it less or equal? False\n"
     ]
    }
   ],
   "source": [
    "print(\"I will now count my chickens:\")\n",
    "print(\"Hens\", 25 + 30 / 6)\n",
    "print(\"Roosters\", 100 - 25 * 3 % 4)\n",
    "print(\"Now I will count the eggs:\")\n",
    "print(3 + 2 + 1 - 5 + 4 % 2 - 1 / 4 + 6)\n",
    "print(\"Is it true that 3 + 2 < 5 - 7?\")\n",
    "print(3 + 2 < 5 - 7)\n",
    "print(\"What is 3 + 2?\", 3 + 2)\n",
    "print(\"What is 5 - 7?\", 5 - 7)\n",
    "print(\"Oh, that's why it's False.\")\n",
    "print(\"How about some more.\")\n",
    "print(\"Is it greater?\", 5 > -2)\n",
    "print(\"Is it greater or equal?\", 5 >= -2)\n",
    "print(\"Is it less or equal?\", 5 <= -2)"
   ]
  },
  {
   "cell_type": "code",
   "execution_count": 146,
   "metadata": {},
   "outputs": [
    {
     "name": "stdout",
     "output_type": "stream",
     "text": [
      "There are 100 cars available.\n",
      "There are only 30 drivers available.\n",
      "There will be 70 empty cars today.\n",
      "We can transport 120.0 people today.\n",
      "We have 90 to carpool today.\n",
      "We need to put about 3.0 in each car.\n"
     ]
    }
   ],
   "source": [
    "cars = 100\n",
    "space_in_a_car = 4.0\n",
    "drivers = 30\n",
    "passengers = 90\n",
    "cars_not_driven = cars - drivers\n",
    "cars_driven = drivers\n",
    "carpool_capacity = cars_driven * space_in_a_car\n",
    "average_passengers_per_car = passengers / cars_driven\n",
    "print(\"There are\", cars, \"cars available.\")\n",
    "print(\"There are only\", drivers, \"drivers available.\")\n",
    "print(\"There will be\", cars_not_driven, \"empty cars today.\")\n",
    "print(\"We can transport\", carpool_capacity, \"people today.\")\n",
    "print(\"We have\", passengers, \"to carpool today.\")\n",
    "print(\"We need to put about\", average_passengers_per_car,\n",
    "      \"in each car.\")"
   ]
  },
  {
   "cell_type": "markdown",
   "metadata": {},
   "source": [
    "## Common Student Questions\n",
    "\n",
    "What is the difference between = (single-equal) and == (double-equal)? The = (single-equal) assigns\n",
    "the value on the right to a variable on the left. The == (double-equal) tests whether two things\n",
    "have the same value."
   ]
  },
  {
   "cell_type": "markdown",
   "metadata": {},
   "source": [
    "What do you mean by “read the file backward”? Very simple. Imagine you have a file with 16 lines\n",
    "of code in it. Start at line 16, and compare it to my file at line 16. Then do it again for 15, and\n",
    "so on until you’ve read the whole file backward"
   ]
  },
  {
   "cell_type": "code",
   "execution_count": 147,
   "metadata": {},
   "outputs": [
    {
     "name": "stdout",
     "output_type": "stream",
     "text": [
      "Let's talk about Zed A. Shaw.\n",
      "He's 74 inches tall.\n",
      "He's 180 pounds heavy.\n",
      "Actually that's not too heavy.\n",
      "He's got Blue eyes and Brown hair.\n",
      "His teeth are usually White depending on the coffee.\n",
      "If I add 35, 74, and 180 I get 289.\n"
     ]
    }
   ],
   "source": [
    "my_name = 'Zed A. Shaw'\n",
    "my_age = 35 # not a lie\n",
    "my_height = 74 # inches\n",
    "my_weight = 180 # lbs\n",
    "my_eyes = 'Blue'\n",
    "my_teeth = 'White'\n",
    "my_hair = 'Brown'\n",
    "print(f\"Let's talk about {my_name}.\")\n",
    "print(f\"He's {my_height} inches tall.\")\n",
    "print(f\"He's {my_weight} pounds heavy.\")\n",
    "print(\"Actually that's not too heavy.\")\n",
    "print(f\"He's got {my_eyes} eyes and {my_hair} hair.\")\n",
    "print(f\"His teeth are usually {my_teeth} depending on the coffee.\")\n",
    "# this line is tricky, try to get it exactly right\n",
    "total = my_age + my_height + my_weight\n",
    "print(f\"If I add {my_age}, {my_height}, and {my_weight} I get {total}.\")"
   ]
  },
  {
   "cell_type": "markdown",
   "metadata": {},
   "source": [
    "## Common Student Questions\n",
    "\n",
    "Can I make a variable like this: 1 = 'Zed Shaw'? No, 1 is not a valid variable name. They need\n",
    "to start with a character, so a1 would work, but 1 will not.\n",
    "How can I round a floating point number? You can use the round() function like this:\n",
    "round(1.7333).\n",
    "Why does this not make sense to me? Try making the numbers in this script your measurements.\n",
    "It’s weird, but talking about yourself will make it seem more real. Also, you’re just starting out\n",
    "so it won’t make too much sense. Keep going and more exercises will explain it more."
   ]
  },
  {
   "cell_type": "code",
   "execution_count": 148,
   "metadata": {},
   "outputs": [
    {
     "name": "stdout",
     "output_type": "stream",
     "text": [
      "There are 10 types of people.\n",
      "Those who know binary and those who don't.\n",
      "I said: There are 10 types of people.\n",
      "I also said: 'Those who know binary and those who don't.'\n",
      "Isn't that joke so funny?! False\n",
      "This is the left side of...a string with a right side.\n"
     ]
    }
   ],
   "source": [
    "types_of_people = 10\n",
    "x = f\"There are {types_of_people} types of people.\"\n",
    "binary = \"binary\"\n",
    "do_not = \"don't\"\n",
    "y = f\"Those who know {binary} and those who {do_not}.\"\n",
    "print(x)\n",
    "print(y)\n",
    "print(f\"I said: {x}\")\n",
    "print(f\"I also said: '{y}'\")\n",
    "hilarious = False\n",
    "joke_evaluation = \"Isn't that joke so funny?! {}\"\n",
    "print(joke_evaluation.format(hilarious))\n",
    "w = \"This is the left side of...\"\n",
    "e = \"a string with a right side.\"\n",
    "print(w + e)"
   ]
  },
  {
   "cell_type": "code",
   "execution_count": 149,
   "metadata": {},
   "outputs": [
    {
     "name": "stdout",
     "output_type": "stream",
     "text": [
      "1 2 3 4\n",
      "one two three four\n",
      "True False False True\n",
      "{} {} {} {} {} {} {} {} {} {} {} {} {} {} {} {}\n",
      "Try your Own text here Maybe a poem Or a song about fear\n"
     ]
    }
   ],
   "source": [
    "formatter = \"{} {} {} {}\"\n",
    "print(formatter.format(1, 2, 3, 4))\n",
    "print(formatter.format(\"one\", \"two\", \"three\", \"four\"))\n",
    "print(formatter.format(True, False, False, True))\n",
    "print(formatter.format(formatter, formatter, formatter, formatter))\n",
    "print(formatter.format(\n",
    "\"Try your\",\n",
    "\"Own text here\",\n",
    "\"Maybe a poem\",\n",
    "\"Or a song about fear\"))\n",
    "#The result of calling format on formatter is a new string that has the {} replaced with the four variables. T"
   ]
  },
  {
   "cell_type": "code",
   "execution_count": 150,
   "metadata": {},
   "outputs": [
    {
     "name": "stdout",
     "output_type": "stream",
     "text": [
      "Here are the days:  Mon Tue Wed Thu Fri Sat Sun\n",
      "Here are the months:  Jan\n",
      "Feb\n",
      "Mar\n",
      "Apr\n",
      "May\n",
      "Jun\n",
      "Jul\n",
      "Aug\n",
      "\n",
      "10 There's something going on here.\n",
      "11 With the three double-quotes.\n",
      "12 We'll be able to type as much as we like.\n",
      "13 Even 4 lines if we want, or 5, or 6.\n",
      "14 \n"
     ]
    }
   ],
   "source": [
    "# Here's some new strange stuff, remember type it exactly.\n",
    "days = \"Mon Tue Wed Thu Fri Sat Sun\"\n",
    "months = \"Jan\\nFeb\\nMar\\nApr\\nMay\\nJun\\nJul\\nAug\"\n",
    "print(\"Here are the days: \", days)\n",
    "print(\"Here are the months: \", months)\n",
    "print(\"\"\"\n",
    "10 There's something going on here.\n",
    "11 With the three double-quotes.\n",
    "12 We'll be able to type as much as we like.\n",
    "13 Even 4 lines if we want, or 5, or 6.\n",
    "14 \"\"\")"
   ]
  },
  {
   "cell_type": "code",
   "execution_count": 151,
   "metadata": {},
   "outputs": [
    {
     "name": "stdout",
     "output_type": "stream",
     "text": [
      "\tI'm tabbed in.\n",
      "I'm split\n",
      "on a line.\n",
      "I'm \\ a \\ cat.\n",
      "\n",
      "I'll do a list:\n",
      "\t* Cat food\n",
      "\t* Fishies\n",
      " \t* Catnip\n",
      "\t* Grass\n",
      " \n"
     ]
    }
   ],
   "source": [
    "tabby_cat = \"\\tI'm tabbed in.\"\n",
    "persian_cat = \"I'm split\\non a line.\"\n",
    "backslash_cat = \"I'm \\\\ a \\\\ cat.\"\n",
    "fat_cat = \"\"\"\n",
    "I'll do a list:\n",
    "\\t* Cat food\n",
    "\\t* Fishies\n",
    " \\t* Catnip\\n\\t* Grass\n",
    " \"\"\"\n",
    "print(tabby_cat)\n",
    "print(persian_cat)\n",
    "print(backslash_cat)\n",
    "print(fat_cat)"
   ]
  },
  {
   "cell_type": "code",
   "execution_count": 152,
   "metadata": {},
   "outputs": [
    {
     "name": "stdout",
     "output_type": "stream",
     "text": [
      "mac\u0007\n"
     ]
    }
   ],
   "source": [
    "print('mac\\a')"
   ]
  },
  {
   "cell_type": "code",
   "execution_count": 153,
   "metadata": {},
   "outputs": [
    {
     "name": "stdout",
     "output_type": "stream",
     "text": [
      "mac\b\n"
     ]
    }
   ],
   "source": [
    "print('mac\\b') "
   ]
  },
  {
   "cell_type": "code",
   "execution_count": 154,
   "metadata": {},
   "outputs": [
    {
     "name": "stdout",
     "output_type": "stream",
     "text": [
      "mac\f",
      " \n"
     ]
    }
   ],
   "source": [
    "print('mac\\f ') "
   ]
  },
  {
   "cell_type": "code",
   "execution_count": 156,
   "metadata": {},
   "outputs": [
    {
     "name": "stdout",
     "output_type": "stream",
     "text": [
      "--------------\n"
     ]
    }
   ],
   "source": [
    "print(\"--------------\")"
   ]
  },
  {
   "cell_type": "code",
   "execution_count": 157,
   "metadata": {},
   "outputs": [
    {
     "name": "stdout",
     "output_type": "stream",
     "text": [
      "mac\r",
      " \n"
     ]
    }
   ],
   "source": [
    "print('mac\\r ')"
   ]
  },
  {
   "cell_type": "code",
   "execution_count": 158,
   "metadata": {},
   "outputs": [
    {
     "name": "stdout",
     "output_type": "stream",
     "text": [
      "mac\t\n"
     ]
    }
   ],
   "source": [
    "print('mac\\t') "
   ]
  },
  {
   "cell_type": "markdown",
   "metadata": {},
   "source": [
    "## Asking questions"
   ]
  },
  {
   "cell_type": "code",
   "execution_count": 159,
   "metadata": {},
   "outputs": [
    {
     "name": "stdout",
     "output_type": "stream",
     "text": [
      "How old are you? 30\n",
      "How tall are you? 567\n",
      "How much do you weigh? 45\n",
      "So, you're 30 old, 567 tall and 45 heavy.\n"
     ]
    }
   ],
   "source": [
    "print(\"How old are you?\", end=' ')\n",
    "age = input()\n",
    "print(\"How tall are you?\", end=' ')\n",
    "height = input()\n",
    "print(\"How much do you weigh?\", end=' ')\n",
    "weight = input()\n",
    "print(f\"So, you're {age} old, {height} tall and {weight} heavy.\")"
   ]
  },
  {
   "cell_type": "markdown",
   "metadata": {},
   "source": [
    "## Prompting people"
   ]
  },
  {
   "cell_type": "code",
   "execution_count": 160,
   "metadata": {},
   "outputs": [
    {
     "name": "stdout",
     "output_type": "stream",
     "text": [
      "How old are you? 56\n",
      "How tall are you? 567\n",
      "How much do you weigh? 34\n",
      "So, you're 56 old, 567 tall and 34 heavy.\n"
     ]
    }
   ],
   "source": [
    "age = input(\"How old are you? \")\n",
    "height = input(\"How tall are you? \")\n",
    "weight = input(\"How much do you weigh? \")\n",
    "print(f\"So, you're {age} old, {height} tall and {weight} heavy.\")"
   ]
  },
  {
   "cell_type": "code",
   "execution_count": 161,
   "metadata": {},
   "outputs": [
    {
     "data": {
      "text/plain": [
       "'C:\\\\Users\\\\user\\\\Documents\\\\Untitled Folder'"
      ]
     },
     "execution_count": 161,
     "metadata": {},
     "output_type": "execute_result"
    }
   ],
   "source": [
    "pwd"
   ]
  },
  {
   "cell_type": "markdown",
   "metadata": {},
   "source": [
    "## command line arguments"
   ]
  },
  {
   "cell_type": "code",
   "execution_count": 162,
   "metadata": {},
   "outputs": [],
   "source": [
    "import os\n",
    "FOLDER_PATH = r'C:\\Windows.old\\Users\\User\\Documents\\books'"
   ]
  },
  {
   "cell_type": "code",
   "execution_count": 86,
   "metadata": {},
   "outputs": [
    {
     "name": "stdout",
     "output_type": "stream",
     "text": [
      "File Name: 2013_Book_ConciseGuideToDatabases.pdf\n",
      "Folder Path: C:\\Windows.old\\Users\\User\\Documents\\books\\2013_Book_ConciseGuideToDatabases.pdf\n",
      "File Name: BookandAnswers\n",
      "Folder Path: C:\\Windows.old\\Users\\User\\Documents\\books\\BookandAnswers\n",
      "File Name: chrisalbionml\n",
      "Folder Path: C:\\Windows.old\\Users\\User\\Documents\\books\\chrisalbionml\n",
      "File Name: datavizbook\n",
      "Folder Path: C:\\Windows.old\\Users\\User\\Documents\\books\\datavizbook\n",
      "File Name: Doing Academic Research A Practical Guide to Research Methods and Analysis by Ted Gournelos Joshua R. Hammonds Maridath A. Wilson (z-lib.org).pdf\n",
      "Folder Path: C:\\Windows.old\\Users\\User\\Documents\\books\\Doing Academic Research A Practical Guide to Research Methods and Analysis by Ted Gournelos Joshua R. Hammonds Maridath A. Wilson (z-lib.org).pdf\n",
      "File Name: hand_on_ml\n",
      "Folder Path: C:\\Windows.old\\Users\\User\\Documents\\books\\hand_on_ml\n",
      "File Name: hand_on_pen_test\n",
      "Folder Path: C:\\Windows.old\\Users\\User\\Documents\\books\\hand_on_pen_test\n",
      "File Name: Intelligent Projects Using Python 9 real-world AI projects leveraging machine learning and deep learning with TensorFlow and Keras by Santanu Pattanayak (z-lib.org).pdf\n",
      "Folder Path: C:\\Windows.old\\Users\\User\\Documents\\books\\Intelligent Projects Using Python 9 real-world AI projects leveraging machine learning and deep learning with TensorFlow and Keras by Santanu Pattanayak (z-lib.org).pdf\n",
      "File Name: june2021select\n",
      "Folder Path: C:\\Windows.old\\Users\\User\\Documents\\books\\june2021select\n",
      "File Name: Learning Web Design - A Beginner’s Guide to HTML, CSS, JavaScript, and Web Graphics by Jennifer Niederst Robbins.pdf\n",
      "Folder Path: C:\\Windows.old\\Users\\User\\Documents\\books\\Learning Web Design - A Beginner’s Guide to HTML, CSS, JavaScript, and Web Graphics by Jennifer Niederst Robbins.pdf\n",
      "File Name: Machine Learning Applications Using Python - Cases Studies from Healthcare, Retail, and Finance by Puneet Mathur (z-lib.org).pdf\n",
      "Folder Path: C:\\Windows.old\\Users\\User\\Documents\\books\\Machine Learning Applications Using Python - Cases Studies from Healthcare, Retail, and Finance by Puneet Mathur (z-lib.org).pdf\n",
      "File Name: Machine Learning for Finance The Practical Guide to Using Data-Driven Algorithms in Banking, Insurance, and Investments by Jannes Klaas (z-lib.org).pdf\n",
      "Folder Path: C:\\Windows.old\\Users\\User\\Documents\\books\\Machine Learning for Finance The Practical Guide to Using Data-Driven Algorithms in Banking, Insurance, and Investments by Jannes Klaas (z-lib.org).pdf\n",
      "File Name: Master Machine Learning Algorithms - Discover how they work by Jason Brownlee (z-lib.org).pdf\n",
      "Folder Path: C:\\Windows.old\\Users\\User\\Documents\\books\\Master Machine Learning Algorithms - Discover how they work by Jason Brownlee (z-lib.org).pdf\n",
      "File Name: pandas_cookbook\n",
      "Folder Path: C:\\Windows.old\\Users\\User\\Documents\\books\\pandas_cookbook\n",
      "File Name: Practical Oracle SQL Mastering the Full Power of Oracle Database by Kim Berg Hansen (z-lib.org).pdf\n",
      "Folder Path: C:\\Windows.old\\Users\\User\\Documents\\books\\Practical Oracle SQL Mastering the Full Power of Oracle Database by Kim Berg Hansen (z-lib.org).pdf\n",
      "File Name: Python\n",
      "Folder Path: C:\\Windows.old\\Users\\User\\Documents\\books\\Python\n",
      "File Name: Python  end-to-end data analysis  leverage the power of Python to clean, scrape, analyze, and visualize your data  a course in three modules. by Vo. T. H, Phuong.pdf\n",
      "Folder Path: C:\\Windows.old\\Users\\User\\Documents\\books\\Python  end-to-end data analysis  leverage the power of Python to clean, scrape, analyze, and visualize your data  a course in three modules. by Vo. T. H, Phuong.pdf\n",
      "File Name: Python Automation Cookbook 75 Python automation ideas for web scraping, data wrangling, and processing Excel, reports, emails, and more, 2nd Edition by Jaime Buelta.pdf\n",
      "Folder Path: C:\\Windows.old\\Users\\User\\Documents\\books\\Python Automation Cookbook 75 Python automation ideas for web scraping, data wrangling, and processing Excel, reports, emails, and more, 2nd Edition by Jaime Buelta.pdf\n",
      "File Name: Python Notes for Professionals by GoalKicker.com.pdf\n",
      "Folder Path: C:\\Windows.old\\Users\\User\\Documents\\books\\Python Notes for Professionals by GoalKicker.com.pdf\n",
      "File Name: Python-for-Data-Analysis-2nd-Edition.pdf\n",
      "Folder Path: C:\\Windows.old\\Users\\User\\Documents\\books\\Python-for-Data-Analysis-2nd-Edition.pdf\n",
      "File Name: R\n",
      "Folder Path: C:\\Windows.old\\Users\\User\\Documents\\books\\R\n",
      "File Name: sum.xlsx\n",
      "Folder Path: C:\\Windows.old\\Users\\User\\Documents\\books\\sum.xlsx\n",
      "File Name: Text Mining with Machine Learning Principles and Techniques by Jan Žižka František Dařena Arnoš Svoboda (z-lib.org).pdf\n",
      "Folder Path: C:\\Windows.old\\Users\\User\\Documents\\books\\Text Mining with Machine Learning Principles and Techniques by Jan Žižka František Dařena Arnoš Svoboda (z-lib.org).pdf\n",
      "File Name: The Applied Data Science Workshop - Second Edition Get started with the applications of data science and techniques to explore and assess data effectively by Alex Galea (z-lib.org).pdf\n",
      "Folder Path: C:\\Windows.old\\Users\\User\\Documents\\books\\The Applied Data Science Workshop - Second Edition Get started with the applications of data science and techniques to explore and assess data effectively by Alex Galea (z-lib.org).pdf\n",
      "File Name: The Big Book of Dashboards Visualizing Your Data Using Real-World Business Scenarios by Steve Wexler Jeffrey Shaffer Andy Cotgreave.pdf\n",
      "Folder Path: C:\\Windows.old\\Users\\User\\Documents\\books\\The Big Book of Dashboards Visualizing Your Data Using Real-World Business Scenarios by Steve Wexler Jeffrey Shaffer Andy Cotgreave.pdf\n",
      "File Name: Web Programming with HTML5, CSS, and JavaScript by John Dean (z-lib.org).pdf\n",
      "Folder Path: C:\\Windows.old\\Users\\User\\Documents\\books\\Web Programming with HTML5, CSS, and JavaScript by John Dean (z-lib.org).pdf\n"
     ]
    }
   ],
   "source": [
    "# Create your own functions\n",
    "\n",
    "def listDir(dir):\n",
    "        fileNames = os.listdir(dir)\n",
    "        for fileName in fileNames:\n",
    "            print('File Name: ' + fileName)\n",
    "            print('Folder Path: ' + os.path.abspath(os.path.join(dir, fileName)), sep = '\\n')\n",
    "                  \n",
    "                  \n",
    "if __name__ == '__main__':\n",
    "        listDir(FOLDER_PATH)"
   ]
  },
  {
   "cell_type": "code",
   "execution_count": 163,
   "metadata": {},
   "outputs": [],
   "source": [
    "# let's create an example file:\n",
    "with open('shoppinglist.txt', 'w') as fileobj:\n",
    "    fileobj.write('tomato\\npasta\\ngarlic')"
   ]
  },
  {
   "cell_type": "code",
   "execution_count": 164,
   "metadata": {},
   "outputs": [],
   "source": [
    "with open('shoppinglist.txt', 'r') as fileobj:\n",
    " # this method makes a list where each line\n",
    " # of the file is an element in the list\n",
    "    lines = fileobj.readlines()"
   ]
  },
  {
   "cell_type": "code",
   "execution_count": 165,
   "metadata": {},
   "outputs": [
    {
     "name": "stdout",
     "output_type": "stream",
     "text": [
      "['tomato\\n', 'pasta\\n', 'garlic']\n"
     ]
    }
   ],
   "source": [
    "print(lines)"
   ]
  },
  {
   "cell_type": "code",
   "execution_count": 169,
   "metadata": {},
   "outputs": [
    {
     "name": "stdout",
     "output_type": "stream",
     "text": [
      "['tomato', 'pasta', 'garlic']\n"
     ]
    }
   ],
   "source": [
    "with open('shoppinglist.txt', 'r') as fileobj:\n",
    "     # here we read the whole content into one string:\n",
    "    content = fileobj.read()\n",
    " # get a list of lines, just like int the previous example:\n",
    "lines = content.split('\\n')\n",
    "print(lines)"
   ]
  },
  {
   "cell_type": "code",
   "execution_count": 170,
   "metadata": {},
   "outputs": [
    {
     "ename": "IndentationError",
     "evalue": "expected an indented block (<ipython-input-170-9e0b0e00e0b5>, line 3)",
     "output_type": "error",
     "traceback": [
      "\u001b[1;36m  File \u001b[1;32m\"<ipython-input-170-9e0b0e00e0b5>\"\u001b[1;36m, line \u001b[1;32m3\u001b[0m\n\u001b[1;33m    lines = []\u001b[0m\n\u001b[1;37m    ^\u001b[0m\n\u001b[1;31mIndentationError\u001b[0m\u001b[1;31m:\u001b[0m expected an indented block\n"
     ]
    }
   ],
   "source": [
    "with open('shoppinglist.txt', 'r') as fileobj:\n",
    " # this method reads line by line:\n",
    "lines = []\n",
    "for line in fileobj:\n",
    "    lines.append(line.strip())\n",
    "print(lines)"
   ]
  },
  {
   "cell_type": "code",
   "execution_count": 171,
   "metadata": {},
   "outputs": [
    {
     "name": "stdout",
     "output_type": "stream",
     "text": [
      "We are at 0.\n"
     ]
    }
   ],
   "source": [
    "fileobj = open('shoppinglist.txt', 'r')\n",
    "pos = fileobj.tell()\n",
    "print('We are at %u.' % pos) # We are at 0"
   ]
  },
  {
   "cell_type": "code",
   "execution_count": 172,
   "metadata": {},
   "outputs": [
    {
     "name": "stdout",
     "output_type": "stream",
     "text": [
      "This file was 21 characters long.\n"
     ]
    }
   ],
   "source": [
    "content = fileobj.read()\n",
    "end = fileobj.tell()\n",
    "print('This file was %u characters long.' % end)\n",
    "# This file was 22 characters long.\n",
    "fileobj.close()\n"
   ]
  },
  {
   "cell_type": "code",
   "execution_count": 173,
   "metadata": {},
   "outputs": [
    {
     "name": "stdout",
     "output_type": "stream",
     "text": [
      "Hello, World!\n",
      "Hello, <br>World!\n",
      "Hello, BREAKWorld!\n"
     ]
    }
   ],
   "source": [
    "print(\"Hello, \", end=\"\")\n",
    "print(\"World!\")\n",
    "# Hello, World!\n",
    "print(\"Hello, \", end=\"<br>\")\n",
    "print(\"World!\")\n",
    "# Hello, <br>World!\n",
    "print(\"Hello, \", end=\"BREAK\")\n",
    "print(\"World!\")\n",
    "# Hello, BREAKWorld!"
   ]
  },
  {
   "cell_type": "code",
   "execution_count": 174,
   "metadata": {},
   "outputs": [
    {
     "name": "stdout",
     "output_type": "stream",
     "text": [
      "2013_Book_ConciseGuideToDatabases.pdf\n",
      "Doing Academic Research A Practical Guide to Research Methods and Analysis by Ted Gournelos Joshua R. Hammonds Maridath A. Wilson (z-lib.org).pdf\n",
      "Intelligent Projects Using Python 9 real-world AI projects leveraging machine learning and deep learning with TensorFlow and Keras by Santanu Pattanayak (z-lib.org).pdf\n",
      "Learning Web Design - A Beginner’s Guide to HTML, CSS, JavaScript, and Web Graphics by Jennifer Niederst Robbins.pdf\n",
      "Machine Learning Applications Using Python - Cases Studies from Healthcare, Retail, and Finance by Puneet Mathur (z-lib.org).pdf\n",
      "Machine Learning for Finance The Practical Guide to Using Data-Driven Algorithms in Banking, Insurance, and Investments by Jannes Klaas (z-lib.org).pdf\n",
      "Master Machine Learning Algorithms - Discover how they work by Jason Brownlee (z-lib.org).pdf\n",
      "Practical Oracle SQL Mastering the Full Power of Oracle Database by Kim Berg Hansen (z-lib.org).pdf\n",
      "Python  end-to-end data analysis  leverage the power of Python to clean, scrape, analyze, and visualize your data  a course in three modules. by Vo. T. H, Phuong.pdf\n",
      "Python Automation Cookbook 75 Python automation ideas for web scraping, data wrangling, and processing Excel, reports, emails, and more, 2nd Edition by Jaime Buelta.pdf\n",
      "Python Notes for Professionals by GoalKicker.com.pdf\n",
      "Python-for-Data-Analysis-2nd-Edition.pdf\n",
      "sum.xlsx\n",
      "Text Mining with Machine Learning Principles and Techniques by Jan Žižka František Dařena Arnoš Svoboda (z-lib.org).pdf\n",
      "The Applied Data Science Workshop - Second Edition Get started with the applications of data science and techniques to explore and assess data effectively by Alex Galea (z-lib.org).pdf\n",
      "The Big Book of Dashboards Visualizing Your Data Using Real-World Business Scenarios by Steve Wexler Jeffrey Shaffer Andy Cotgreave.pdf\n",
      "Web Programming with HTML5, CSS, and JavaScript by John Dean (z-lib.org).pdf\n"
     ]
    }
   ],
   "source": [
    "for entry in os.scandir(FOLDER_PATH):\n",
    "    if not entry.name.startswith('.') and entry.is_file():\n",
    "         print(entry.name)"
   ]
  },
  {
   "cell_type": "markdown",
   "metadata": {},
   "source": [
    "## What can be iterable"
   ]
  },
  {
   "cell_type": "code",
   "execution_count": 175,
   "metadata": {},
   "outputs": [
    {
     "data": {
      "text/plain": [
       "{1: 2, 3: 4}"
      ]
     },
     "execution_count": 175,
     "metadata": {},
     "output_type": "execute_result"
    }
   ],
   "source": [
    "[1, 2, 3] # list, iterate over items\n",
    "(1, 2, 3) # tuple\n",
    "{1, 2, 3} # set\n",
    "{1: 2, 3: 4} # dict, iterate over keys"
   ]
  },
  {
   "cell_type": "markdown",
   "metadata": {},
   "source": [
    "## Reading files dynamically"
   ]
  },
  {
   "cell_type": "code",
   "execution_count": 176,
   "metadata": {},
   "outputs": [
    {
     "name": "stdout",
     "output_type": "stream",
     "text": [
      "['C:\\\\Users\\\\user\\\\Documents\\\\Untitled Folder\\\\Book1_1_June_2021.csv', 'C:\\\\Users\\\\user\\\\Documents\\\\Untitled Folder\\\\Book1_2_June_2021.csv', 'C:\\\\Users\\\\user\\\\Documents\\\\Untitled Folder\\\\combined_csv.csv']\n"
     ]
    }
   ],
   "source": [
    "import glob\n",
    "path = \"C:\\\\Users\\\\user\\\\Documents\\\\Untitled Folder\"\n",
    "\n",
    "csv_files = glob.glob(path + \"/**/*.csv\", recursive = True)\n",
    "\n",
    "print(csv_files)"
   ]
  },
  {
   "cell_type": "code",
   "execution_count": 177,
   "metadata": {},
   "outputs": [
    {
     "name": "stdout",
     "output_type": "stream",
     "text": [
      "['C:\\\\Users\\\\user\\\\Documents\\\\Untitled Folder\\\\Book1_1_June_2021.csv', 'C:\\\\Users\\\\user\\\\Documents\\\\Untitled Folder\\\\Book1_2_June_2021.csv', 'C:\\\\Users\\\\user\\\\Documents\\\\Untitled Folder\\\\combined_csv.csv']\n"
     ]
    }
   ],
   "source": [
    "import glob\n",
    "path = r\"C:\\Users\\user\\Documents\\Untitled Folder\"\n",
    "\n",
    "csv_files = glob.glob(path + \"/**/*.csv\", recursive = True)\n",
    "\n",
    "print(csv_files)"
   ]
  },
  {
   "cell_type": "code",
   "execution_count": 181,
   "metadata": {},
   "outputs": [],
   "source": [
    "import os\n",
    "import pandas as pd\n",
    "\n",
    "path = \"C:\\\\Users\\\\user\\\\Documents\\\\Untitled Folder\"\n",
    "file_extension = 'xlsx'\n",
    "excel_file_list = []\n",
    "for root, dirs, files in os.walk(path):\n",
    "    for name in files:\n",
    "        if name.endswith(file_extension):\n",
    "            file_path = os.path.join(root, name)\n",
    "            excel_file_list.append(file_path)\n",
    "\n",
    "dfs = [pd.read_excel(f) for f in csv_file_list]"
   ]
  },
  {
   "cell_type": "code",
   "execution_count": 182,
   "metadata": {},
   "outputs": [
    {
     "data": {
      "text/plain": [
       "[         day  amount\n",
       " 0 2021-06-01      10\n",
       " 1 2021-06-02      34,\n",
       "          day  amount\n",
       " 0 2021-06-03      13\n",
       " 1 2021-06-04      23,\n",
       "          day  amount\n",
       " 0 2021-06-01      10\n",
       " 1 2021-06-02      34]"
      ]
     },
     "execution_count": 182,
     "metadata": {},
     "output_type": "execute_result"
    }
   ],
   "source": [
    "# List\n",
    "dfs"
   ]
  },
  {
   "cell_type": "code",
   "execution_count": 183,
   "metadata": {},
   "outputs": [
    {
     "name": "stdout",
     "output_type": "stream",
     "text": [
      "C:\\Users\\user\\Documents\\Untitled Folder\\Book1_1_June_2021.csv\n",
      "C:\\Users\\user\\Documents\\Untitled Folder\\Book1_2_June_2021.csv\n",
      "C:\\Users\\user\\Documents\\Untitled Folder\\combined_csv.csv\n"
     ]
    }
   ],
   "source": [
    "pathname = \"C:\\\\Users\\\\user\\\\Documents\\\\Untitled Folder/**/*.csv\"\n",
    "\n",
    "for file in glob.iglob(pathname, recursive=True):\n",
    "    print(file)"
   ]
  },
  {
   "cell_type": "code",
   "execution_count": 184,
   "metadata": {},
   "outputs": [
    {
     "name": "stdout",
     "output_type": "stream",
     "text": [
      "['C:\\\\Users\\\\user\\\\Documents\\\\Untitled Folder\\\\Book1_1_June_2021.csv', 'C:\\\\Users\\\\user\\\\Documents\\\\Untitled Folder\\\\Book1_2_June_2021.csv', 'C:\\\\Users\\\\user\\\\Documents\\\\Untitled Folder\\\\combined_csv.csv']\n"
     ]
    }
   ],
   "source": [
    "import os\n",
    "from glob import glob\n",
    "\n",
    "def get_csv_files(dir_path, ext):\n",
    "    os.chdir(dir_path)\n",
    "    return list(map(lambda x: os.path.join(dir_path, x), glob(f'*.{ext}')))\n",
    "\n",
    "print(get_csv_files(\"C:\\\\Users\\\\user\\\\Documents\\\\Untitled Folder\", \"csv\"))"
   ]
  },
  {
   "cell_type": "code",
   "execution_count": 186,
   "metadata": {},
   "outputs": [
    {
     "name": "stdout",
     "output_type": "stream",
     "text": [
      "Book1_1_June_2021.csv\n",
      "C:\\\\Users\\\\user\\\\Documents\\\\Untitled Folder\\Book1_1_June_2021.csv\n",
      "Book1_2_June_2021.csv\n",
      "C:\\\\Users\\\\user\\\\Documents\\\\Untitled Folder\\Book1_2_June_2021.csv\n",
      "combined_csv.csv\n",
      "C:\\\\Users\\\\user\\\\Documents\\\\Untitled Folder\\combined_csv.csv\n"
     ]
    }
   ],
   "source": [
    "import os\n",
    "\n",
    "# This is the path where you want to search\n",
    "path = r'C:\\\\Users\\\\user\\\\Documents\\\\Untitled Folder'\n",
    "\n",
    "# this is the extension you want to detect\n",
    "extension = '.csv'\n",
    "\n",
    "for root, dirs_list, files_list in os.walk(path):\n",
    "    for file_name in files_list:\n",
    "        if os.path.splitext(file_name)[-1] == extension:\n",
    "            file_name_path = os.path.join(root, file_name)\n",
    "            print(file_name)\n",
    "            print(file_name_path)   # This is the full path of the filter file"
   ]
  },
  {
   "cell_type": "code",
   "execution_count": 187,
   "metadata": {},
   "outputs": [
    {
     "name": "stdout",
     "output_type": "stream",
     "text": [
      "['.ipynb_checkpoints', 'Book1_1_June_2021.csv', 'Book1_1_June_2021.xlsx', 'Book1_2_June_2021.csv', 'Book1_2_June_2021.xlsx', 'combined_csv.csv', 'ex14.py', 'ex15_sample.txt', 'ex15_samplet', 'Learning python 3 with Chiwaye.ipynb', 'shoppinglist.txt', 'TEST.xlsx', 'untitled.txt']\n",
      "['Book1_1_June_2021.csv', 'Book1_2_June_2021.csv', 'combined_csv.csv']\n"
     ]
    }
   ],
   "source": [
    "import os\n",
    "\n",
    "all_files = os.listdir(\"C:\\\\Users\\\\user\\\\Documents\\\\Untitled Folder\")    \n",
    "csv_files = list(filter(lambda f: f.endswith('.csv'), all_files))\n",
    "print(all_files)\n",
    "print(csv_files)"
   ]
  },
  {
   "cell_type": "code",
   "execution_count": 188,
   "metadata": {},
   "outputs": [
    {
     "name": "stdout",
     "output_type": "stream",
     "text": [
      "Book1_1_June_2021.csv\n",
      "Book1_2_June_2021.csv\n",
      "combined_csv.csv\n"
     ]
    }
   ],
   "source": [
    "from os import listdir\n",
    "\n",
    "def find_csv_filenames( path_to_dir, suffix=\".csv\" ):\n",
    "    filenames = listdir(path_to_dir)\n",
    "    return [ filename for filename in filenames if filename.endswith( suffix ) ]\n",
    "\n",
    "filenames = find_csv_filenames(\"C:\\\\Users\\\\user\\\\Documents\\\\Untitled Folder\")\n",
    "for name in filenames:\n",
    "      print(name)"
   ]
  },
  {
   "cell_type": "code",
   "execution_count": 189,
   "metadata": {
    "scrolled": true
   },
   "outputs": [
    {
     "data": {
      "text/plain": [
       "<function __main__.find_csv_filenames(path_to_dir, suffix='.csv')>"
      ]
     },
     "execution_count": 189,
     "metadata": {},
     "output_type": "execute_result"
    }
   ],
   "source": [
    "find_csv_filenames"
   ]
  },
  {
   "cell_type": "markdown",
   "metadata": {},
   "source": [
    "### Sort list just ignoring whitespaces:"
   ]
  },
  {
   "cell_type": "code",
   "execution_count": 190,
   "metadata": {},
   "outputs": [
    {
     "data": {
      "text/plain": [
       "['BaZ ', ' bAR', ' foo ']"
      ]
     },
     "execution_count": 190,
     "metadata": {},
     "output_type": "execute_result"
    }
   ],
   "source": [
    "sorted( [\" foo \", \" bAR\", \"BaZ \"], key=lambda s: s.strip())\n",
    "# Out:\n",
    "# ['BaZ ', ' bAR', ' foo ']"
   ]
  },
  {
   "cell_type": "code",
   "execution_count": 194,
   "metadata": {},
   "outputs": [
    {
     "data": {
      "text/plain": [
       "['BAR', 'BAZ', 'FOO']"
      ]
     },
     "execution_count": 194,
     "metadata": {},
     "output_type": "execute_result"
    }
   ],
   "source": [
    "#### Examples with map:\n",
    "sorted( map( lambda s: s.strip().upper(), [\" foo \", \" bAR\", \"BaZ \"]))\n",
    "# Out:\n",
    "# ['BAR', 'BAZ', 'FOO']\n"
   ]
  },
  {
   "cell_type": "code",
   "execution_count": 193,
   "metadata": {},
   "outputs": [
    {
     "data": {
      "text/plain": [
       "['BaZ', 'bAR', 'foo']"
      ]
     },
     "execution_count": 193,
     "metadata": {},
     "output_type": "execute_result"
    }
   ],
   "source": [
    "sorted( map( lambda s: s.strip(), [\" foo \", \" bAR\", \"BaZ \"]))\n",
    "# Out:\n",
    "# ['BaZ', 'bAR', 'foo']"
   ]
  },
  {
   "cell_type": "code",
   "execution_count": 195,
   "metadata": {},
   "outputs": [
    {
     "data": {
      "text/plain": [
       "[3, 4, 2, 5, 1, 7]"
      ]
     },
     "execution_count": 195,
     "metadata": {},
     "output_type": "execute_result"
    }
   ],
   "source": [
    "## Examples with numerical lists:\n",
    "my_list = [3, -4, -2, 5, 1, 7]\n",
    "sorted( my_list, key=lambda x: abs(x))\n",
    "# Out:\n",
    "[3, 4, 2, 5, 1, 7]"
   ]
  },
  {
   "cell_type": "code",
   "execution_count": 196,
   "metadata": {},
   "outputs": [
    {
     "data": {
      "text/plain": [
       "[3, 4, 2, 5, 1, 7]"
      ]
     },
     "execution_count": 196,
     "metadata": {},
     "output_type": "execute_result"
    }
   ],
   "source": [
    "# [1, -2, 3, -4, 5, 7]\n",
    "list( filter( lambda x: x>0, my_list))\n",
    "# Out:\n",
    "# [3, 5, 1, 7]\n"
   ]
  },
  {
   "cell_type": "code",
   "execution_count": 197,
   "metadata": {},
   "outputs": [
    {
     "data": {
      "text/plain": [
       "[3, 4, 2, 5, 1, 7]"
      ]
     },
     "execution_count": 197,
     "metadata": {},
     "output_type": "execute_result"
    }
   ],
   "source": [
    "list( map( lambda x: abs(x), my_list))"
   ]
  },
  {
   "cell_type": "markdown",
   "metadata": {},
   "source": [
    "One can call other functions (with/without arguments) from inside a lambda function."
   ]
  },
  {
   "cell_type": "code",
   "execution_count": 198,
   "metadata": {},
   "outputs": [
    {
     "name": "stdout",
     "output_type": "stream",
     "text": [
      "hello world\n"
     ]
    }
   ],
   "source": [
    "\n",
    "def foo(msg):\n",
    " print(msg)\n",
    "greet = lambda x = \"hello world\": foo(x)\n",
    "greet()"
   ]
  },
  {
   "cell_type": "code",
   "execution_count": null,
   "metadata": {},
   "outputs": [],
   "source": [
    "# [1, -2, 3, -4, 5, 7]\n",
    "list( filter( lambda x: x>0, my_list))\n",
    "# Out:\n",
    "# [3, 5, 1, 7]\n",
    "\n"
   ]
  },
  {
   "cell_type": "code",
   "execution_count": 199,
   "metadata": {},
   "outputs": [
    {
     "data": {
      "text/plain": [
       "[3, 4, 2, 5, 1, 7]"
      ]
     },
     "execution_count": 199,
     "metadata": {},
     "output_type": "execute_result"
    }
   ],
   "source": [
    "list( map( lambda x: abs(x), my_list))\n"
   ]
  },
  {
   "cell_type": "code",
   "execution_count": 200,
   "metadata": {},
   "outputs": [],
   "source": [
    "def f(x): return 2*x"
   ]
  },
  {
   "cell_type": "code",
   "execution_count": 201,
   "metadata": {},
   "outputs": [],
   "source": [
    "f = lambda x: 2*x\n"
   ]
  },
  {
   "cell_type": "markdown",
   "metadata": {},
   "source": [
    " Defining a function with optional arguments\n",
    " Optional arguments can be defined by assigning (using =) a default value to the argument-name:\n"
   ]
  },
  {
   "cell_type": "code",
   "execution_count": 206,
   "metadata": {},
   "outputs": [],
   "source": [
    "def make(action='nothing'):\n",
    "    return action"
   ]
  },
  {
   "cell_type": "markdown",
   "metadata": {},
   "source": [
    "Calling this function is possible in 3 different ways:"
   ]
  },
  {
   "cell_type": "code",
   "execution_count": 209,
   "metadata": {},
   "outputs": [
    {
     "data": {
      "text/plain": [
       "'fun'"
      ]
     },
     "execution_count": 209,
     "metadata": {},
     "output_type": "execute_result"
    }
   ],
   "source": [
    "make(\"fun\")\n",
    "# Out: fun"
   ]
  },
  {
   "cell_type": "code",
   "execution_count": 210,
   "metadata": {},
   "outputs": [
    {
     "data": {
      "text/plain": [
       "'nothing'"
      ]
     },
     "execution_count": 210,
     "metadata": {},
     "output_type": "execute_result"
    }
   ],
   "source": [
    "make(action=\"sleep\")\n",
    "# Out: sleep\n",
    "# The argument is optional so the function will use the default value if the argument is\n",
    "# not passed in.\n",
    "make()\n",
    "# Out: nothing"
   ]
  },
  {
   "cell_type": "markdown",
   "metadata": {},
   "source": [
    "Defining a function with optional mutable\n",
    "arguments\n"
   ]
  },
  {
   "cell_type": "code",
   "execution_count": 211,
   "metadata": {},
   "outputs": [
    {
     "name": "stdout",
     "output_type": "stream",
     "text": [
      "(42, [])\n"
     ]
    }
   ],
   "source": [
    "def f(a, b=42, c=[]):\n",
    "     pass\n",
    "print(f.__defaults__)"
   ]
  },
  {
   "cell_type": "markdown",
   "metadata": {},
   "source": [
    "For immutable types (see Argument passing and mutability) this is not a problem because there is no way to\n",
    "mutate the variable; it can only ever be reassigned, leaving the original value unchanged. Hence, subsequent are\n",
    "guaranteed to have the same default value. However, for a mutable type, the original value can mutate, by making\n",
    "calls to its various member functions. Therefore, successive calls to the function are not guaranteed to have the\n",
    "initial default value"
   ]
  },
  {
   "cell_type": "code",
   "execution_count": 215,
   "metadata": {},
   "outputs": [
    {
     "data": {
      "text/plain": [
       "[1]"
      ]
     },
     "execution_count": 215,
     "metadata": {},
     "output_type": "execute_result"
    }
   ],
   "source": [
    "def append(elem, to=[]):\n",
    "    to.append(elem) # This call to append() mutates the default variable \"to\"\n",
    "    return to\n",
    "append(1)"
   ]
  },
  {
   "cell_type": "code",
   "execution_count": null,
   "metadata": {},
   "outputs": [],
   "source": [
    "append(2) # Appends it to the internally stored list"
   ]
  },
  {
   "cell_type": "code",
   "execution_count": null,
   "metadata": {},
   "outputs": [],
   "source": [
    "append(3, []) # Using a new created list gives the expected result"
   ]
  },
  {
   "cell_type": "code",
   "execution_count": 216,
   "metadata": {},
   "outputs": [
    {
     "data": {
      "text/plain": [
       "[1, 4]"
      ]
     },
     "execution_count": 216,
     "metadata": {},
     "output_type": "execute_result"
    }
   ],
   "source": [
    "# Calling it again without argument will append to the internally stored list again\n",
    "append(4)"
   ]
  },
  {
   "cell_type": "code",
   "execution_count": 217,
   "metadata": {},
   "outputs": [
    {
     "name": "stdout",
     "output_type": "stream",
     "text": [
      "Book1_1_June_2021.csv\n",
      "Book1_2_June_2021.csv\n"
     ]
    }
   ],
   "source": [
    "import glob\n",
    "import pandas as pd\n",
    "\n",
    "for file in glob.glob(\"B*.csv\"):\n",
    "    print (file)"
   ]
  },
  {
   "cell_type": "code",
   "execution_count": 219,
   "metadata": {},
   "outputs": [],
   "source": [
    "import os\n",
    "import glob\n",
    "import pandas as pd\n",
    "os.chdir(\"C:\\\\Users\\\\user\\\\Documents\\\\Untitled Folder\")\n",
    "\n",
    "extension = 'csv'\n",
    "all_filenames = [i for i in glob.glob('*.{}'.format(extension))]"
   ]
  },
  {
   "cell_type": "code",
   "execution_count": 222,
   "metadata": {},
   "outputs": [],
   "source": [
    "#combine all files in the list\n",
    "combined_csv = pd.concat([pd.read_csv(f) for f in all_filenames ])"
   ]
  },
  {
   "cell_type": "code",
   "execution_count": 223,
   "metadata": {},
   "outputs": [],
   "source": [
    "#export to csv\n",
    "combined_csv.to_csv( \"combined_csv.csv\", index=False, encoding='utf-8-sig')"
   ]
  },
  {
   "cell_type": "code",
   "execution_count": 226,
   "metadata": {},
   "outputs": [],
   "source": [
    "def append(elem, to=None):\n",
    "    if to is None:\n",
    "         to = []\n",
    "    to.append(elem)\n",
    "    return to"
   ]
  },
  {
   "cell_type": "code",
   "execution_count": 227,
   "metadata": {},
   "outputs": [
    {
     "data": {
      "text/plain": [
       "['MAC']"
      ]
     },
     "execution_count": 227,
     "metadata": {},
     "output_type": "execute_result"
    }
   ],
   "source": [
    "append('MAC')"
   ]
  },
  {
   "cell_type": "code",
   "execution_count": 241,
   "metadata": {},
   "outputs": [
    {
     "data": {
      "text/plain": [
       "[10]"
      ]
     },
     "execution_count": 241,
     "metadata": {},
     "output_type": "execute_result"
    }
   ],
   "source": [
    "append(5+5)"
   ]
  },
  {
   "cell_type": "markdown",
   "metadata": {},
   "source": [
    "## Argument passing and mutability"
   ]
  },
  {
   "cell_type": "markdown",
   "metadata": {},
   "source": [
    "First, some terminology:<br>\n",
    "argument (actual parameter): the actual variable being passed to a function;\n",
    "parameter (formal parameter): the receiving variable that is used in a function.\n",
    "In Python, arguments are passed by assignment (as opposed to other languages, where arguments can be\n",
    "passed by value/reference/pointer).\n",
    "Mutating a parameter will mutate the argument (if the argument's type is mutable).\n"
   ]
  },
  {
   "cell_type": "code",
   "execution_count": 235,
   "metadata": {},
   "outputs": [
    {
     "data": {
      "text/plain": [
       "'There are 10 types of people.'"
      ]
     },
     "execution_count": 235,
     "metadata": {},
     "output_type": "execute_result"
    }
   ],
   "source": [
    "x"
   ]
  },
  {
   "cell_type": "code",
   "execution_count": 236,
   "metadata": {},
   "outputs": [],
   "source": [
    "del x"
   ]
  },
  {
   "cell_type": "code",
   "execution_count": 240,
   "metadata": {},
   "outputs": [],
   "source": [
    "def foo(x): # here x is the parameter\n",
    "    x[0] = 9 # This mutates the list labelled by both x and y\n",
    "    print(x)"
   ]
  },
  {
   "cell_type": "code",
   "execution_count": null,
   "metadata": {},
   "outputs": [],
   "source": [
    " print(x)"
   ]
  },
  {
   "cell_type": "code",
   "execution_count": 239,
   "metadata": {},
   "outputs": [
    {
     "name": "stdout",
     "output_type": "stream",
     "text": [
      "[9, 5, 6]\n",
      "[9, 5, 6]\n"
     ]
    }
   ],
   "source": [
    "y = [4, 5, 6]\n",
    "foo(y) # call foo with y as argument\n",
    "# Out: [9, 5, 6] # list labelled by x has been mutated\n",
    "print(y)\n",
    "# Out: [9, 5, 6] # list labelled by y has been mutated too"
   ]
  },
  {
   "cell_type": "markdown",
   "metadata": {},
   "source": [
    "In Python, we don’t really assign values to variables, instead we bind (i.e. assign, attach) variables\n",
    "(considered as names) to objects.\n",
    "Immutable: Integers, strings, tuples, and so on. All operations make copies.\n",
    "Mutable: Lists, dictionaries, sets, and so on. Operations may or may not mutate.\n"
   ]
  },
  {
   "cell_type": "code",
   "execution_count": 246,
   "metadata": {
    "collapsed": true
   },
   "outputs": [
    {
     "name": "stdout",
     "output_type": "stream",
     "text": [
      "[3, 1, 9]\n",
      "[3, 1, 9]\n",
      "[1, 3, 5, 9, 4]\n",
      "[1, 3, 5, 9, 4, 6]\n",
      "[1, 3, 4, 5, 6, 9]\n"
     ]
    }
   ],
   "source": [
    "x = [3, 1, 9]\n",
    "print(x)\n",
    "y = x\n",
    "print(y)\n",
    "x.append(5) # Mutates the list labelled by x and y, both x and y are bound to [3, 1, 9]\n",
    "x.sort() # Mutates the list labelled by x and y (in-place sorting)\n",
    "x = x + [4] # Does not mutate the list (makes a copy for x only, not y)\n",
    "z = x # z is x ([1, 3, 9, 4])\n",
    "print(z)\n",
    "x += [6] # Mutates the list labelled by both x and z (uses the extend function).\n",
    "print(x)\n",
    "x = sorted(x) # Does not mutate the list (makes a copy for x only).\n",
    "print(x)\n",
    "# Out: [1, 3, 4, 5, 6, 9]"
   ]
  },
  {
   "cell_type": "markdown",
   "metadata": {},
   "source": [
    "Returning values from functions"
   ]
  },
  {
   "cell_type": "code",
   "execution_count": null,
   "metadata": {},
   "outputs": [],
   "source": [
    "# Functions can return a value that you can use directly:\n",
    "def give_me_five():\n",
    " return 5\n",
    "print(give_me_five()) # Print the returned value\n",
    "# Out: 5\n",
    "\n"
   ]
  },
  {
   "cell_type": "code",
   "execution_count": null,
   "metadata": {},
   "outputs": [],
   "source": [
    "or save the value for later use:\n",
    "num = give_me_five()\n",
    "print(num) # Print the saved returned value\n",
    "# Out: 5\n"
   ]
  },
  {
   "cell_type": "code",
   "execution_count": null,
   "metadata": {},
   "outputs": [],
   "source": [
    "or use the value for any operations:\n",
    "print(give_me_five() + 10)\n",
    "# Out: 15\n"
   ]
  },
  {
   "cell_type": "markdown",
   "metadata": {},
   "source": [
    "If return is encountered in the function the function will be exited immediately and subsequent operations will not\n",
    "be evaluated:\n"
   ]
  },
  {
   "cell_type": "code",
   "execution_count": null,
   "metadata": {},
   "outputs": [],
   "source": [
    "def give_me_another_five():\n",
    " return 5\n",
    " print('This statement will not be printed. Ever.')\n",
    "print(give_me_another_five())\n",
    "# Out: 5\n"
   ]
  },
  {
   "cell_type": "code",
   "execution_count": 247,
   "metadata": {},
   "outputs": [
    {
     "name": "stdout",
     "output_type": "stream",
     "text": [
      "5\n",
      "5\n"
     ]
    }
   ],
   "source": [
    "#You can also return multiple values (in the form of a tuple):\n",
    "def give_me_two_fives():\n",
    "    return 5, 5 # Returns two 5\n",
    "first, second = give_me_two_fives()\n",
    "print(first)\n",
    "# Out: 5\n",
    "print(second)"
   ]
  },
  {
   "cell_type": "markdown",
   "metadata": {},
   "source": [
    ": Nested functions"
   ]
  },
  {
   "cell_type": "code",
   "execution_count": 251,
   "metadata": {},
   "outputs": [
    {
     "ename": "IndentationError",
     "evalue": "unindent does not match any outer indentation level (<tokenize>, line 4)",
     "output_type": "error",
     "traceback": [
      "\u001b[1;36m  File \u001b[1;32m\"<tokenize>\"\u001b[1;36m, line \u001b[1;32m4\u001b[0m\n\u001b[1;33m    a, b = 0, 1\u001b[0m\n\u001b[1;37m    ^\u001b[0m\n\u001b[1;31mIndentationError\u001b[0m\u001b[1;31m:\u001b[0m unindent does not match any outer indentation level\n"
     ]
    }
   ],
   "source": [
    "def fibonacci(n):\n",
    "    def step(a,b):\n",
    "        return b, a+b\n",
    "     a, b = 0, 1\n",
    "    for i in range(n):\n",
    "        a, b = step(a, b)\n",
    "    return a\n"
   ]
  },
  {
   "cell_type": "code",
   "execution_count": 244,
   "metadata": {},
   "outputs": [
    {
     "data": {
      "text/plain": [
       "[1, 3, 5, 9]"
      ]
     },
     "execution_count": 244,
     "metadata": {},
     "output_type": "execute_result"
    }
   ],
   "source": [
    "y\n",
    "# Out: [1, 3, 5, 9]\n"
   ]
  },
  {
   "cell_type": "code",
   "execution_count": 243,
   "metadata": {},
   "outputs": [
    {
     "data": {
      "text/plain": [
       "[1, 3, 5, 9, 4, 6]"
      ]
     },
     "execution_count": 243,
     "metadata": {},
     "output_type": "execute_result"
    }
   ],
   "source": [
    "z"
   ]
  },
  {
   "cell_type": "code",
   "execution_count": null,
   "metadata": {},
   "outputs": [],
   "source": []
  },
  {
   "cell_type": "code",
   "execution_count": null,
   "metadata": {},
   "outputs": [],
   "source": []
  },
  {
   "cell_type": "code",
   "execution_count": null,
   "metadata": {},
   "outputs": [],
   "source": []
  }
 ],
 "metadata": {
  "kernelspec": {
   "display_name": "Python 3",
   "language": "python",
   "name": "python3"
  },
  "language_info": {
   "codemirror_mode": {
    "name": "ipython",
    "version": 3
   },
   "file_extension": ".py",
   "mimetype": "text/x-python",
   "name": "python",
   "nbconvert_exporter": "python",
   "pygments_lexer": "ipython3",
   "version": "3.8.5"
  }
 },
 "nbformat": 4,
 "nbformat_minor": 4
}
